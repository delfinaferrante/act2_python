{
 "cells": [
  {
   "cell_type": "code",
   "execution_count": 1,
   "metadata": {},
   "outputs": [],
   "source": [
    "import sys\n",
    "import os\n",
    "# Obtener la ruta absoluta del directorio raíz del proyecto\n",
    "sys.path.append(os.path.abspath(\"../src\"))"
   ]
  },
  {
   "cell_type": "markdown",
   "metadata": {},
   "source": [
    "Nota = En este archivo están algunos ejercicios de la práctica que me sirvieron para entender mejor. Si bien no influyen en la corrección, pensé en dejarlos por separado."
   ]
  },
  {
   "cell_type": "markdown",
   "metadata": {},
   "source": [
    "# Ejercicio 1\n",
    "Copie el texto del Zen de Python en una variable e imprima todas las líneas cuya segunda\n",
    "palabra comience con una vocal (A, E, I, O, U, a, e, i, o, u)."
   ]
  },
  {
   "cell_type": "code",
   "execution_count": null,
   "metadata": {},
   "outputs": [],
   "source": [
    "import this\n",
    "\n",
    "zen_text = \"\"\"The Zen of Python, by Tim Peters.\n",
    "Beautiful is better than ugly.\n",
    "Explicit is better than implicit.\n",
    "Simple is better than complex.\n",
    "Complex is better than complicated.\n",
    "Flat is better than nested.\n",
    "Sparse is better than dense.\n",
    "Readability counts.\n",
    "Special cases aren't special enough to break the rules.\n",
    "Although practicality beats purity.\n",
    "Errors should never pass silently.\n",
    "Unless explicitly silenced.\n",
    "In the face of ambiguity, refuse the temptation to guess.\n",
    "There should be one-- and preferably only one --obvious way to do it.\n",
    "Although that way may not be obvious at first unless you're Dutch.\n",
    "Now is better than never.\n",
    "Although never is often better than *right* now.\n",
    "If the implementation is hard to explain, it's a bad idea.\n",
    "If the implementation is easy to explain, it may be a good idea.\n",
    "Namespaces are one honking great idea -- let's do more of those!.\"\"\"\n",
    "\n",
    "# Separo la cadena original en subcadenas por lineas completas, sino las divide por palabras(cada principio) \n",
    "subcadenas = zen_text.split(\"\\n\")\n",
    "vowels = \"AEIOUaeiou\"\n",
    "\n",
    "for subcadena in subcadenas:\n",
    "\n",
    "    # Divido cada subcadena en una lista de palabras\n",
    "    words = subcadena.split()\n",
    "    second_word = words[1]\n",
    "    if second_word[0] in vowels:\n",
    "        print(subcadena)"
   ]
  },
  {
   "cell_type": "markdown",
   "metadata": {},
   "source": [
    "# Ejercicio 2\n",
    "Dado un listado de títulos de streams en Twitch, encuentre el título con más palabras y muéstrelo en pantalla."
   ]
  },
  {
   "cell_type": "code",
   "execution_count": null,
   "metadata": {},
   "outputs": [],
   "source": [
    "from ejercicio_1 import title_large\n",
    "\n",
    "titles = [\n",
    "\"Speedrun de Super Mario en tiempo récord\",\n",
    "\"Charla sobre desarrollo de videojuegos\",\n",
    "\"Jugando al nuevo FPS del momento con amigos\",\n",
    "\"Música en vivo: improvisaciones al piano\"\n",
    "]\n",
    "\n",
    "more_large = title_large(titles)\n",
    "print(\"El título más largo es:\", more_large)"
   ]
  },
  {
   "cell_type": "markdown",
   "metadata": {},
   "source": [
    "# Ejercicio 3\n",
    "Dado un código de conducta para un servidor de Discord, solicite una palabra clave al usuario e imprima todas las reglas que la contengan."
   ]
  },
  {
   "cell_type": "code",
   "execution_count": null,
   "metadata": {},
   "outputs": [],
   "source": [
    "from ejercicio_2 import search_rules\n",
    "\n",
    "rules = \"\"\"Respeta a los demás. No se permiten insultos ni lenguaje ofensivo.\n",
    "Evita el spam. No publiques enlaces sospechosos o repetitivos.\n",
    "No compartas información personal.\n",
    "Usa los canales adecuados para cada tema.\n",
    "Sigue las instrucciones de los moderadores.\"\"\"\n",
    "\n",
    "word = input(\"Ingrese una palabra clave: \")\n",
    "#word = \"moderadores\"\n",
    "results = search_rules(rules, word)\n",
    "\n",
    "for rule in results:\n",
    "    print(rule)"
   ]
  },
  {
   "cell_type": "markdown",
   "metadata": {},
   "source": [
    "# Ejercicio 4\n",
    "Valide un nombre de usuario con los siguientes criterios: al menos 5 caracteres, contiene al menos un número, contiene al menos una letra mayúscula, solo puede contener letras y números."
   ]
  },
  {
   "cell_type": "code",
   "execution_count": null,
   "metadata": {},
   "outputs": [],
   "source": [
    "from ejercicio_3 import check_name\n",
    "\n",
    "user_name = input(\"Ingrese un nombre de usuario: \")\n",
    "print(check_name(user_name)) "
   ]
  },
  {
   "cell_type": "markdown",
   "metadata": {},
   "source": [
    "# Ejercicio 6\n",
    "Dadas varias descripciones de streams en Twitch, cuente cuántas menciones hay de \"entretenimiento\", \"música\" y \"charla\""
   ]
  },
  {
   "cell_type": "code",
   "execution_count": null,
   "metadata": {},
   "outputs": [],
   "source": [
    "descriptions = [\n",
    "\"Streaming de música en vivo con covers y composiciones\",\n",
    "\"Charla interactiva con la audiencia sobre series y películas\",\n",
    "\"Jugamos a juegos retro y charlamos sobre su historia\",\n",
    "\"Exploramos la mejor música de los 80s y 90s\",\n",
    "\"Programa de entretenimiento con noticias y curiosidades del mundo gamer\",\n",
    "\"Sesión de charla con invitados especiales del mundo del streaming\",\n",
    "\"Música en directo con improvisaciones y peticiones del chat\",\n",
    "\"Un espacio para charlar relajada sobre tecnología y cultura digital\",\n",
    "\"Exploramos el impacto de la música en los videojuegos clásicos\"\n",
    "]\n",
    "\n",
    "words = [\"entretenimiento\", \"música\", \"charla\"]\n",
    "\n",
    "for word in words:\n",
    "    cant = 0\n",
    "    for desc in descriptions:\n",
    "        # Separo las palabras de la lista (porque count sino sumaba 1 cuando leia, por ejemplo, \"charlamos\"\n",
    "        separate_word = desc.lower().split()\n",
    "        cant += separate_word.count(word)\n",
    "        \n",
    "    print(f'Menciones de {word}: {cant}')"
   ]
  }
 ],
 "metadata": {
  "kernelspec": {
   "display_name": "venv",
   "language": "python",
   "name": "python3"
  },
  "language_info": {
   "codemirror_mode": {
    "name": "ipython",
    "version": 3
   },
   "file_extension": ".py",
   "mimetype": "text/x-python",
   "name": "python",
   "nbconvert_exporter": "python",
   "pygments_lexer": "ipython3",
   "version": "3.12.9"
  }
 },
 "nbformat": 4,
 "nbformat_minor": 2
}
