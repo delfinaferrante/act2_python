{
 "cells": [
  {
   "cell_type": "code",
   "execution_count": null,
   "metadata": {},
   "outputs": [],
   "source": [
    "import sys\n",
    "import os\n",
    "# Obtener la ruta absoluta del directorio raíz del proyecto\n",
    "sys.path.append(os.path.abspath(\"../src\"))"
   ]
  },
  {
   "cell_type": "markdown",
   "metadata": {},
   "source": [
    "# Ejercicio 1\n",
    "Copie el texto del Zen de Python en una variable e imprima todas las líneas cuya segunda\n",
    "palabra comience con una vocal (A, E, I, O, U, a, e, i, o, u)."
   ]
  },
  {
   "cell_type": "code",
   "execution_count": null,
   "metadata": {},
   "outputs": [],
   "source": [
    "import this\n",
    "\n",
    "zen_text = \"\"\"The Zen of Python, by Tim Peters.\n",
    "Beautiful is better than ugly.\n",
    "Explicit is better than implicit.\n",
    "Simple is better than complex.\n",
    "Complex is better than complicated.\n",
    "Flat is better than nested.\n",
    "Sparse is better than dense.\n",
    "Readability counts.\n",
    "Special cases aren't special enough to break the rules.\n",
    "Although practicality beats purity.\n",
    "Errors should never pass silently.\n",
    "Unless explicitly silenced.\n",
    "In the face of ambiguity, refuse the temptation to guess.\n",
    "There should be one-- and preferably only one --obvious way to do it.\n",
    "Although that way may not be obvious at first unless you're Dutch.\n",
    "Now is better than never.\n",
    "Although never is often better than *right* now.\n",
    "If the implementation is hard to explain, it's a bad idea.\n",
    "If the implementation is easy to explain, it may be a good idea.\n",
    "Namespaces are one honking great idea -- let's do more of those!.\"\"\"\n",
    "\n",
    "# Separo la cadena original en subcadenas por lineas completas, sino las divide por palabras(cada principio) \n",
    "subcadenas = zen_text.split(\"\\n\")\n",
    "vowels = \"AEIOUaeiou\"\n",
    "\n",
    "for subcadena in subcadenas:\n",
    "\n",
    "    # Divido cada subcadena en una lista de palabras\n",
    "    words = subcadena.split()\n",
    "    second_word = words[1]\n",
    "    if second_word[0] in vowels:\n",
    "        print(subcadena)"
   ]
  },
  {
   "cell_type": "markdown",
   "metadata": {},
   "source": [
    "# Ejercicio 2\n",
    "Dado un listado de títulos de streams en Twitch, encuentre el título con más palabras y muéstrelo en pantalla."
   ]
  },
  {
   "cell_type": "code",
   "execution_count": null,
   "metadata": {},
   "outputs": [],
   "source": [
    "from search_titles import title_large\n",
    "\n",
    "titles = [\n",
    "\"Speedrun de Super Mario en tiempo récord\",\n",
    "\"Charla sobre desarrollo de videojuegos\",\n",
    "\"Jugando al nuevo FPS del momento con amigos\",\n",
    "\"Música en vivo: improvisaciones al piano\"\n",
    "]\n",
    "\n",
    "more_large = title_large(titles)\n",
    "print(\"El título más largo es:\", more_large)"
   ]
  }
 ],
 "metadata": {
  "kernelspec": {
   "display_name": "venv",
   "language": "python",
   "name": "python3"
  },
  "language_info": {
   "codemirror_mode": {
    "name": "ipython",
    "version": 3
   },
   "file_extension": ".py",
   "mimetype": "text/x-python",
   "name": "python",
   "nbconvert_exporter": "python",
   "pygments_lexer": "ipython3",
   "version": "3.12.9"
  }
 },
 "nbformat": 4,
 "nbformat_minor": 2
}
